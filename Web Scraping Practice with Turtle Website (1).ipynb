{
 "cells": [
  {
   "cell_type": "code",
   "execution_count": 1,
   "id": "6f4ac565",
   "metadata": {},
   "outputs": [],
   "source": [
    "import re\n",
    "import pandas as pd\n",
    "from bs4 import BeautifulSoup\n",
    "import requests"
   ]
  },
  {
   "cell_type": "code",
   "execution_count": 8,
   "id": "70f7d7f6",
   "metadata": {},
   "outputs": [],
   "source": [
    "#pull in website source code\n",
    "prefix = 'https://content.codecademy.com/courses/beautifulsoup/'\n",
    "url = 'https://content.codecademy.com/courses/beautifulsoup/shellter.html'\n",
    "\n",
    "page = requests.get(url)\n",
    "soup = BeautifulSoup(page.text, 'html.parser')"
   ]
  },
  {
   "cell_type": "code",
   "execution_count": 56,
   "id": "456c4888",
   "metadata": {},
   "outputs": [
    {
     "name": "stdout",
     "output_type": "stream",
     "text": [
      "{'Aesop': ['AGE: 7 Years Old', 'WEIGHT: 6 lbs', 'SEX: Female', 'BREED: African Aquatic Sideneck Turtle', 'SOURCE: found in Lake Erie'], 'Caesar': ['AGE: 2 Years Old', 'WEIGHT: 4 lbs', 'SEX: Male', 'BREED: Greek Tortoise', 'SOURCE: hatched in house'], 'Sulla': ['AGE: 1 Year Old', 'WEIGHT: 1 lb', 'SEX: Male', 'BREED: African Aquatic Sideneck Turtle', 'SOURCE: found in Lake Erie'], 'Spyro': ['AGE: 6 Years Old', 'WEIGHT: 3 lbs', 'SEX: Female', 'BREED: Greek Tortoise', 'SOURCE: hatched in house'], 'Zelda': ['AGE: 3 Years Old', 'WEIGHT: 2 lbs', 'SEX: Female', 'BREED: Eastern Box Turtle', 'SOURCE: surrendered by owner'], 'Bandicoot': ['AGE: 2 Years Old', 'WEIGHT: 2 lbs', 'SEX: Male', 'BREED: African Aquatic Sideneck Turtle', 'SOURCE: hatched in house'], 'Hal': ['AGE: 1 Year Old', 'WEIGHT: 1.5 lbs', 'SEX: Female', 'BREED: Eastern Box Turtle', 'SOURCE: surrendered by owner'], 'Mock': ['AGE: 10 Years Old', 'WEIGHT: 10 lbs', 'SEX: Male', 'BREED: Greek Tortoise', 'SOURCE: surrendered by owner'], 'Sparrow': ['AGE: 1.5 Years Old', 'WEIGHT: 4.5 lbs', 'SEX: Female', 'BREED: African Aquatic Sideneck Turtle', 'SOURCE: found in Lake Erie']}\n"
     ]
    }
   ],
   "source": [
    "#extract each turtle's link and each link into a list\n",
    "turtle_links = soup.find_all('a')\n",
    "links = []\n",
    "\n",
    "#go through each link from turtle_links and add 'href' to create each turtle's page's link\n",
    "for turtle_link in turtle_links:\n",
    "    links.append(prefix + turtle_link['href'])\n",
    "    \n",
    "#create turtle_data dictionary with turtle_name as the key and info as the values\n",
    "turtle_data = {}\n",
    "\n",
    "for link in links:\n",
    "    webpage = requests.get(link)\n",
    "    turtle = BeautifulSoup(webpage.text, 'html.parser')\n",
    "    ##after looking at the source code of individual turtle's page, we find that turtle names are linked with tag 'p'\n",
    "    ## and attribute class=name\n",
    "    turtle_name = turtle.find('p', attrs = {'class': 'name'}).get_text()\n",
    "    \n",
    "    ## same concept for each turtle's information\n",
    "    turtle_data_values = []\n",
    "    infos = turtle.find('ul')\n",
    "    for info in infos.find_all('li'):\n",
    "        turtle_data_values.append(info.get_text())\n",
    "        \n",
    "    turtle_data[turtle_name] = turtle_data_values\n",
    "    \n",
    "print(turtle_data)"
   ]
  },
  {
   "cell_type": "code",
   "execution_count": 29,
   "id": "dec53509",
   "metadata": {},
   "outputs": [
    {
     "name": "stdout",
     "output_type": "stream",
     "text": [
      "                                    Aesop                    Caesar  \\\n",
      "0                        AGE: 7 Years Old          AGE: 2 Years Old   \n",
      "1                           WEIGHT: 6 lbs             WEIGHT: 4 lbs   \n",
      "2                             SEX: Female                 SEX: Male   \n",
      "3  BREED: African Aquatic Sideneck Turtle     BREED: Greek Tortoise   \n",
      "4              SOURCE: found in Lake Erie  SOURCE: hatched in house   \n",
      "\n",
      "                                    Sulla                     Spyro  \\\n",
      "0                         AGE: 1 Year Old          AGE: 6 Years Old   \n",
      "1                            WEIGHT: 1 lb             WEIGHT: 3 lbs   \n",
      "2                               SEX: Male               SEX: Female   \n",
      "3  BREED: African Aquatic Sideneck Turtle     BREED: Greek Tortoise   \n",
      "4              SOURCE: found in Lake Erie  SOURCE: hatched in house   \n",
      "\n",
      "                          Zelda                               Bandicoot  \\\n",
      "0              AGE: 3 Years Old                        AGE: 2 Years Old   \n",
      "1                 WEIGHT: 2 lbs                           WEIGHT: 2 lbs   \n",
      "2                   SEX: Female                               SEX: Male   \n",
      "3     BREED: Eastern Box Turtle  BREED: African Aquatic Sideneck Turtle   \n",
      "4  SOURCE: surrendered by owner                SOURCE: hatched in house   \n",
      "\n",
      "                            Hal                          Mock  \\\n",
      "0               AGE: 1 Year Old             AGE: 10 Years Old   \n",
      "1               WEIGHT: 1.5 lbs                WEIGHT: 10 lbs   \n",
      "2                   SEX: Female                     SEX: Male   \n",
      "3     BREED: Eastern Box Turtle         BREED: Greek Tortoise   \n",
      "4  SOURCE: surrendered by owner  SOURCE: surrendered by owner   \n",
      "\n",
      "                                  Sparrow  \n",
      "0                      AGE: 1.5 Years Old  \n",
      "1                         WEIGHT: 4.5 lbs  \n",
      "2                             SEX: Female  \n",
      "3  BREED: African Aquatic Sideneck Turtle  \n",
      "4              SOURCE: found in Lake Erie  \n"
     ]
    }
   ],
   "source": [
    "# construct a DataFrame with the turtle_data dictionary\n",
    "turtle_df = pd.DataFrame.from_dict(turtle_data)\n",
    "print(turtle_df)"
   ]
  },
  {
   "cell_type": "code",
   "execution_count": 57,
   "id": "9af43c82",
   "metadata": {},
   "outputs": [
    {
     "name": "stdout",
     "output_type": "stream",
     "text": [
      "                            0                1            2  \\\n",
      "Aesop        AGE: 7 Years Old    WEIGHT: 6 lbs  SEX: Female   \n",
      "Caesar       AGE: 2 Years Old    WEIGHT: 4 lbs    SEX: Male   \n",
      "Sulla         AGE: 1 Year Old     WEIGHT: 1 lb    SEX: Male   \n",
      "Spyro        AGE: 6 Years Old    WEIGHT: 3 lbs  SEX: Female   \n",
      "Zelda        AGE: 3 Years Old    WEIGHT: 2 lbs  SEX: Female   \n",
      "Bandicoot    AGE: 2 Years Old    WEIGHT: 2 lbs    SEX: Male   \n",
      "Hal           AGE: 1 Year Old  WEIGHT: 1.5 lbs  SEX: Female   \n",
      "Mock        AGE: 10 Years Old   WEIGHT: 10 lbs    SEX: Male   \n",
      "Sparrow    AGE: 1.5 Years Old  WEIGHT: 4.5 lbs  SEX: Female   \n",
      "\n",
      "                                                3  \\\n",
      "Aesop      BREED: African Aquatic Sideneck Turtle   \n",
      "Caesar                      BREED: Greek Tortoise   \n",
      "Sulla      BREED: African Aquatic Sideneck Turtle   \n",
      "Spyro                       BREED: Greek Tortoise   \n",
      "Zelda                   BREED: Eastern Box Turtle   \n",
      "Bandicoot  BREED: African Aquatic Sideneck Turtle   \n",
      "Hal                     BREED: Eastern Box Turtle   \n",
      "Mock                        BREED: Greek Tortoise   \n",
      "Sparrow    BREED: African Aquatic Sideneck Turtle   \n",
      "\n",
      "                                      4  \n",
      "Aesop        SOURCE: found in Lake Erie  \n",
      "Caesar         SOURCE: hatched in house  \n",
      "Sulla        SOURCE: found in Lake Erie  \n",
      "Spyro          SOURCE: hatched in house  \n",
      "Zelda      SOURCE: surrendered by owner  \n",
      "Bandicoot      SOURCE: hatched in house  \n",
      "Hal        SOURCE: surrendered by owner  \n",
      "Mock       SOURCE: surrendered by owner  \n",
      "Sparrow      SOURCE: found in Lake Erie  \n"
     ]
    }
   ],
   "source": [
    "#switch the row and column names with .transpose()\n",
    "final_df = turtle_df.transpose()\n",
    "print(final_df)"
   ]
  },
  {
   "cell_type": "code",
   "execution_count": 58,
   "id": "99cb8343",
   "metadata": {},
   "outputs": [
    {
     "name": "stdout",
     "output_type": "stream",
     "text": [
      "                          age           weight          sex  \\\n",
      "Aesop        AGE: 7 Years Old    WEIGHT: 6 lbs  SEX: Female   \n",
      "Caesar       AGE: 2 Years Old    WEIGHT: 4 lbs    SEX: Male   \n",
      "Sulla         AGE: 1 Year Old     WEIGHT: 1 lb    SEX: Male   \n",
      "Spyro        AGE: 6 Years Old    WEIGHT: 3 lbs  SEX: Female   \n",
      "Zelda        AGE: 3 Years Old    WEIGHT: 2 lbs  SEX: Female   \n",
      "Bandicoot    AGE: 2 Years Old    WEIGHT: 2 lbs    SEX: Male   \n",
      "Hal           AGE: 1 Year Old  WEIGHT: 1.5 lbs  SEX: Female   \n",
      "Mock        AGE: 10 Years Old   WEIGHT: 10 lbs    SEX: Male   \n",
      "Sparrow    AGE: 1.5 Years Old  WEIGHT: 4.5 lbs  SEX: Female   \n",
      "\n",
      "                                            breed  \\\n",
      "Aesop      BREED: African Aquatic Sideneck Turtle   \n",
      "Caesar                      BREED: Greek Tortoise   \n",
      "Sulla      BREED: African Aquatic Sideneck Turtle   \n",
      "Spyro                       BREED: Greek Tortoise   \n",
      "Zelda                   BREED: Eastern Box Turtle   \n",
      "Bandicoot  BREED: African Aquatic Sideneck Turtle   \n",
      "Hal                     BREED: Eastern Box Turtle   \n",
      "Mock                        BREED: Greek Tortoise   \n",
      "Sparrow    BREED: African Aquatic Sideneck Turtle   \n",
      "\n",
      "                                 source  \n",
      "Aesop        SOURCE: found in Lake Erie  \n",
      "Caesar         SOURCE: hatched in house  \n",
      "Sulla        SOURCE: found in Lake Erie  \n",
      "Spyro          SOURCE: hatched in house  \n",
      "Zelda      SOURCE: surrendered by owner  \n",
      "Bandicoot      SOURCE: hatched in house  \n",
      "Hal        SOURCE: surrendered by owner  \n",
      "Mock       SOURCE: surrendered by owner  \n",
      "Sparrow      SOURCE: found in Lake Erie  \n"
     ]
    }
   ],
   "source": [
    "#change column names into info categories\n",
    "final_df.columns = ['age', 'weight', 'sex', 'breed', 'source']\n",
    "print(final_df)"
   ]
  },
  {
   "cell_type": "code",
   "execution_count": 60,
   "id": "839d8168",
   "metadata": {},
   "outputs": [
    {
     "name": "stdout",
     "output_type": "stream",
     "text": [
      "           age           weight          sex  \\\n",
      "Aesop        7    WEIGHT: 6 lbs  SEX: Female   \n",
      "Caesar       2    WEIGHT: 4 lbs    SEX: Male   \n",
      "Sulla        1     WEIGHT: 1 lb    SEX: Male   \n",
      "Spyro        6    WEIGHT: 3 lbs  SEX: Female   \n",
      "Zelda        3    WEIGHT: 2 lbs  SEX: Female   \n",
      "Bandicoot    2    WEIGHT: 2 lbs    SEX: Male   \n",
      "Hal          1  WEIGHT: 1.5 lbs  SEX: Female   \n",
      "Mock        10   WEIGHT: 10 lbs    SEX: Male   \n",
      "Sparrow      1  WEIGHT: 4.5 lbs  SEX: Female   \n",
      "\n",
      "                                            breed  \\\n",
      "Aesop      BREED: African Aquatic Sideneck Turtle   \n",
      "Caesar                      BREED: Greek Tortoise   \n",
      "Sulla      BREED: African Aquatic Sideneck Turtle   \n",
      "Spyro                       BREED: Greek Tortoise   \n",
      "Zelda                   BREED: Eastern Box Turtle   \n",
      "Bandicoot  BREED: African Aquatic Sideneck Turtle   \n",
      "Hal                     BREED: Eastern Box Turtle   \n",
      "Mock                        BREED: Greek Tortoise   \n",
      "Sparrow    BREED: African Aquatic Sideneck Turtle   \n",
      "\n",
      "                                 source  \n",
      "Aesop        SOURCE: found in Lake Erie  \n",
      "Caesar         SOURCE: hatched in house  \n",
      "Sulla        SOURCE: found in Lake Erie  \n",
      "Spyro          SOURCE: hatched in house  \n",
      "Zelda      SOURCE: surrendered by owner  \n",
      "Bandicoot      SOURCE: hatched in house  \n",
      "Hal        SOURCE: surrendered by owner  \n",
      "Mock       SOURCE: surrendered by owner  \n",
      "Sparrow      SOURCE: found in Lake Erie  \n"
     ]
    }
   ],
   "source": [
    "#change values in age column from string to integer\n",
    "#\\d+ means to extract 1 or more digits\n",
    "final_df['age'] = final_df.age.str.extract('(\\d+)').apply(pd.to_numeric)\n",
    "print(final_df)"
   ]
  },
  {
   "cell_type": "code",
   "execution_count": 61,
   "id": "8d941ad7",
   "metadata": {},
   "outputs": [
    {
     "name": "stdout",
     "output_type": "stream",
     "text": [
      "           age  weight          sex                                   breed  \\\n",
      "Aesop        7       6  SEX: Female  BREED: African Aquatic Sideneck Turtle   \n",
      "Caesar       2       4    SEX: Male                   BREED: Greek Tortoise   \n",
      "Sulla        1       1    SEX: Male  BREED: African Aquatic Sideneck Turtle   \n",
      "Spyro        6       3  SEX: Female                   BREED: Greek Tortoise   \n",
      "Zelda        3       2  SEX: Female               BREED: Eastern Box Turtle   \n",
      "Bandicoot    2       2    SEX: Male  BREED: African Aquatic Sideneck Turtle   \n",
      "Hal          1       1  SEX: Female               BREED: Eastern Box Turtle   \n",
      "Mock        10      10    SEX: Male                   BREED: Greek Tortoise   \n",
      "Sparrow      1       4  SEX: Female  BREED: African Aquatic Sideneck Turtle   \n",
      "\n",
      "                                 source  \n",
      "Aesop        SOURCE: found in Lake Erie  \n",
      "Caesar         SOURCE: hatched in house  \n",
      "Sulla        SOURCE: found in Lake Erie  \n",
      "Spyro          SOURCE: hatched in house  \n",
      "Zelda      SOURCE: surrendered by owner  \n",
      "Bandicoot      SOURCE: hatched in house  \n",
      "Hal        SOURCE: surrendered by owner  \n",
      "Mock       SOURCE: surrendered by owner  \n",
      "Sparrow      SOURCE: found in Lake Erie  \n"
     ]
    }
   ],
   "source": [
    "#change values in weight column from string to integer\n",
    "final_df['weight'] = final_df.weight.str.extract('(\\d+)').apply(pd.to_numeric)\n",
    "print(final_df)"
   ]
  },
  {
   "cell_type": "code",
   "execution_count": 62,
   "id": "f2f59c3c",
   "metadata": {},
   "outputs": [
    {
     "name": "stdout",
     "output_type": "stream",
     "text": [
      "           age  weight          sex                                   breed  \\\n",
      "Aesop        7       6  SEX: Female  BREED: African Aquatic Sideneck Turtle   \n",
      "Caesar       2       4    SEX: Male                   BREED: Greek Tortoise   \n",
      "Sulla        1       1    SEX: Male  BREED: African Aquatic Sideneck Turtle   \n",
      "Spyro        6       3  SEX: Female                   BREED: Greek Tortoise   \n",
      "Zelda        3       2  SEX: Female               BREED: Eastern Box Turtle   \n",
      "Bandicoot    2       2    SEX: Male  BREED: African Aquatic Sideneck Turtle   \n",
      "Hal          1       1  SEX: Female               BREED: Eastern Box Turtle   \n",
      "Mock        10      10    SEX: Male                   BREED: Greek Tortoise   \n",
      "Sparrow      1       4  SEX: Female  BREED: African Aquatic Sideneck Turtle   \n",
      "\n",
      "                                 source  \n",
      "Aesop        SOURCE: found in Lake Erie  \n",
      "Caesar         SOURCE: hatched in house  \n",
      "Sulla        SOURCE: found in Lake Erie  \n",
      "Spyro          SOURCE: hatched in house  \n",
      "Zelda      SOURCE: surrendered by owner  \n",
      "Bandicoot      SOURCE: hatched in house  \n",
      "Hal        SOURCE: surrendered by owner  \n",
      "Mock       SOURCE: surrendered by owner  \n",
      "Sparrow      SOURCE: found in Lake Erie  \n"
     ]
    }
   ],
   "source": [
    "#by looking at the data type of sex, breed, source columns, we find that they are series instead of strings\n",
    "#use .astype('string') to change their type to strings\n",
    "final_df['sex'] = final_df['sex'].astype(\"string\")\n",
    "final_df['breed'] = final_df['breed'].astype(\"string\")\n",
    "final_df['source'] = final_df['source'].astype('string')\n",
    "print(final_df)"
   ]
  },
  {
   "cell_type": "code",
   "execution_count": 65,
   "id": "2fddd28d",
   "metadata": {},
   "outputs": [
    {
     "name": "stdout",
     "output_type": "stream",
     "text": [
      "           age  weight     sex                             breed  \\\n",
      "Aesop        7       6  Female   African Aquatic Sideneck Turtle   \n",
      "Caesar       2       4    Male                    Greek Tortoise   \n",
      "Sulla        1       1    Male   African Aquatic Sideneck Turtle   \n",
      "Spyro        6       3  Female                    Greek Tortoise   \n",
      "Zelda        3       2  Female                Eastern Box Turtle   \n",
      "Bandicoot    2       2    Male   African Aquatic Sideneck Turtle   \n",
      "Hal          1       1  Female                Eastern Box Turtle   \n",
      "Mock        10      10    Male                    Greek Tortoise   \n",
      "Sparrow      1       4  Female   African Aquatic Sideneck Turtle   \n",
      "\n",
      "                          source  \n",
      "Aesop         found in Lake Erie  \n",
      "Caesar          hatched in house  \n",
      "Sulla         found in Lake Erie  \n",
      "Spyro           hatched in house  \n",
      "Zelda       surrendered by owner  \n",
      "Bandicoot       hatched in house  \n",
      "Hal         surrendered by owner  \n",
      "Mock        surrendered by owner  \n",
      "Sparrow       found in Lake Erie  \n"
     ]
    }
   ],
   "source": [
    "#clean the values of sex, breed, and source columns\n",
    "final_df['sex'] = final_df['sex'].str.split().str[-1]\n",
    "final_df['breed'] = final_df['breed'].str.split(':').str[-1]\n",
    "final_df['source'] = final_df['source'].str.split(':').str[-1]\n",
    "print(final_df)"
   ]
  },
  {
   "cell_type": "code",
   "execution_count": null,
   "id": "080463c0",
   "metadata": {},
   "outputs": [],
   "source": []
  }
 ],
 "metadata": {
  "kernelspec": {
   "display_name": "Python 3",
   "language": "python",
   "name": "python3"
  },
  "language_info": {
   "codemirror_mode": {
    "name": "ipython",
    "version": 3
   },
   "file_extension": ".py",
   "mimetype": "text/x-python",
   "name": "python",
   "nbconvert_exporter": "python",
   "pygments_lexer": "ipython3",
   "version": "3.8.8"
  }
 },
 "nbformat": 4,
 "nbformat_minor": 5
}
